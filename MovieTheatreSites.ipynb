{
 "cells": [
  {
   "cell_type": "markdown",
   "metadata": {},
   "source": [
    "Dallas - Movie Theater Location"
   ]
  },
  {
   "cell_type": "markdown",
   "metadata": {},
   "source": [
    "Independent Movie Theatres must contend with a myriad of factors when deciding where to open their new theatres. They must have spaces large enough to house their business. They also must maximize traffic to the site. They must also maximize distance to other movie theatres to ensure that they are able to show first run movies. In a practice known as \"clearances\" movie studios give preferences to first run movies existing theatres in a market. Though this practice is under attack through the courts, it is still a factor that must be considered in site selection. It is also a important to maximize distance from other theatres to minimize competition and find underserved markets.\n"
   ]
  },
  {
   "cell_type": "markdown",
   "metadata": {},
   "source": [
    "In order to find sites that meet these criteria, I will use Foursquare data for the Greater Dallas Area to find closed big box, grocery and other large stores. I will then use the explore function to find the sites with maximum traffic of nearby stores and minimum competition."
   ]
  },
  {
   "cell_type": "code",
   "execution_count": null,
   "metadata": {},
   "outputs": [],
   "source": []
  }
 ],
 "metadata": {
  "kernelspec": {
   "display_name": "Python 3",
   "language": "python",
   "name": "python3"
  },
  "language_info": {
   "codemirror_mode": {
    "name": "ipython",
    "version": 3
   },
   "file_extension": ".py",
   "mimetype": "text/x-python",
   "name": "python",
   "nbconvert_exporter": "python",
   "pygments_lexer": "ipython3",
   "version": "3.6.8"
  }
 },
 "nbformat": 4,
 "nbformat_minor": 2
}
